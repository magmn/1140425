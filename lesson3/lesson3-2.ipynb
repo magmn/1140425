{
 "cells": [
  {
   "cell_type": "code",
   "execution_count": 5,
   "metadata": {},
   "outputs": [],
   "source": [
    "import requests\n",
    "from requests import Response \n",
    "import csv\n",
    "from  io import StringIO\n",
    "url = 'https://data.moenv.gov.tw/api/v2/aqx_p_432?api_key=540e2ca4-41e1-4186-8497-fdd67024ac44&limit=1000&sort=ImportDate desc&format=CSV'\n",
    "response:Response = requests.get(url)\n",
    "file =StringIO(response.text)\n",
    "csv_reader =csv.DictReader(file)\n",
    "aqi:list = list(csv_reader)\n"
   ]
  },
  {
   "cell_type": "code",
   "execution_count": 8,
   "metadata": {},
   "outputs": [
    {
     "name": "stdout",
     "output_type": "stream",
     "text": [
      "{'sitename': '菜寮', 'county': '新北市', 'aqi': '56', 'pollutant': '細懸浮微粒', 'status': '普通', 'so2': '0.9', 'co': '0.35', 'o3': '49', 'o3_8hr': '52', 'pm10': '25', 'pm2.5': '12', 'no2': '14', 'nox': '15.2', 'no': '1.1', 'wind_speed': '1.8', 'wind_direc': '36', 'publishtime': '2025/05/08 16:00:00', 'co_8hr': '0.3', 'pm2.5_avg': '14.4', 'pm10_avg': '26', 'so2_avg': '0', 'longitude': '121.481028', 'latitude': '25.06895', 'siteid': '8'}\n"
     ]
    }
   ],
   "source": [
    "for item in aqi:\n",
    "    if item['sitename'] =='菜寮':\n",
    "        print(item)"
   ]
  },
  {
   "cell_type": "code",
   "execution_count": 9,
   "metadata": {},
   "outputs": [
    {
     "data": {
      "text/plain": [
       "list"
      ]
     },
     "execution_count": 9,
     "metadata": {},
     "output_type": "execute_result"
    }
   ],
   "source": [
    "type([1,2,3,4])\n",
    "type(list())"
   ]
  }
 ],
 "metadata": {
  "kernelspec": {
   "display_name": "flask",
   "language": "python",
   "name": "python3"
  },
  "language_info": {
   "codemirror_mode": {
    "name": "ipython",
    "version": 3
   },
   "file_extension": ".py",
   "mimetype": "text/x-python",
   "name": "python",
   "nbconvert_exporter": "python",
   "pygments_lexer": "ipython3",
   "version": "3.11.11"
  }
 },
 "nbformat": 4,
 "nbformat_minor": 2
}
